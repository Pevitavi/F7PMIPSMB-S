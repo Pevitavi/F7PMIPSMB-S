{
 "cells": [
  {
   "cell_type": "code",
   "execution_count": 423,
   "metadata": {},
   "outputs": [],
   "source": [
    "from sklearn import tree\n",
    "from sklearn.datasets import load_iris\n",
    "from sklearn.tree import DecisionTreeClassifier\n",
    "from sklearn.model_selection import train_test_split\n",
    "import sklearn.metrics as metrics\n",
    "from sklearn.tree import export_graphviz\n",
    "from six import StringIO\n",
    "from IPython.display import Image \n",
    "from pydot import graph_from_dot_data\n",
    "import pandas as pd\n",
    "import numpy as np\n",
    "from sklearn.model_selection import train_test_split\n",
    "from sklearn.preprocessing import StandardScaler\n",
    "from sklearn.decomposition import PCA\n",
    "from sklearn.ensemble import RandomForestClassifier"
   ]
  },
  {
   "cell_type": "code",
   "execution_count": 424,
   "metadata": {},
   "outputs": [],
   "source": [
    "dfname = pd.read_table('geneNames.txt', header=None, names=[\"gen_names\"])"
   ]
  },
  {
   "cell_type": "code",
   "execution_count": 425,
   "metadata": {},
   "outputs": [],
   "source": [
    "df = pd.read_table(\"gene_expression.csv\", sep=\";\", header=None)\n",
    "dfvysl = pd.read_csv('label.csv', header=None, names=[\"cancer\"])"
   ]
  },
  {
   "cell_type": "code",
   "execution_count": 426,
   "metadata": {},
   "outputs": [],
   "source": [
    "df.columns =  dfname['gen_names']"
   ]
  },
  {
   "cell_type": "code",
   "execution_count": 427,
   "metadata": {},
   "outputs": [
    {
     "data": {
      "text/html": [
       "<div>\n",
       "<style scoped>\n",
       "    .dataframe tbody tr th:only-of-type {\n",
       "        vertical-align: middle;\n",
       "    }\n",
       "\n",
       "    .dataframe tbody tr th {\n",
       "        vertical-align: top;\n",
       "    }\n",
       "\n",
       "    .dataframe thead th {\n",
       "        text-align: right;\n",
       "    }\n",
       "</style>\n",
       "<table border=\"1\" class=\"dataframe\">\n",
       "  <thead>\n",
       "    <tr style=\"text-align: right;\">\n",
       "      <th>gen_names</th>\n",
       "      <th>x</th>\n",
       "      <th>x</th>\n",
       "      <th>x</th>\n",
       "      <th>x</th>\n",
       "      <th>x</th>\n",
       "      <th>x</th>\n",
       "      <th>x</th>\n",
       "      <th>x</th>\n",
       "      <th>x</th>\n",
       "      <th>x</th>\n",
       "      <th>...</th>\n",
       "      <th>STAT5B</th>\n",
       "      <th>MFGE8</th>\n",
       "      <th>CAMK2D</th>\n",
       "      <th>TUBA4A</th>\n",
       "      <th>CYP4B1</th>\n",
       "      <th>PTGER3</th>\n",
       "      <th>x</th>\n",
       "      <th>RB1</th>\n",
       "      <th>GYPA</th>\n",
       "      <th>x</th>\n",
       "    </tr>\n",
       "  </thead>\n",
       "  <tbody>\n",
       "    <tr>\n",
       "      <th>0</th>\n",
       "      <td>-72,8898534</td>\n",
       "      <td>27,78356481</td>\n",
       "      <td>-43,8599537</td>\n",
       "      <td>-123,0592207</td>\n",
       "      <td>-10,68422068</td>\n",
       "      <td>-96,79320988</td>\n",
       "      <td>224,4076003</td>\n",
       "      <td>32,27951389</td>\n",
       "      <td>123,0636574</td>\n",
       "      <td>73,20061728</td>\n",
       "      <td>...</td>\n",
       "      <td>-30,19907407</td>\n",
       "      <td>-238,8402778</td>\n",
       "      <td>-102,7033179</td>\n",
       "      <td>-69,96489198</td>\n",
       "      <td>1,776813272</td>\n",
       "      <td>-90,51678241</td>\n",
       "      <td>-29,36959876</td>\n",
       "      <td>16,67631173</td>\n",
       "      <td>-296,9403935</td>\n",
       "      <td>-1,324652778</td>\n",
       "    </tr>\n",
       "    <tr>\n",
       "      <th>1</th>\n",
       "      <td>-30,34818673</td>\n",
       "      <td>78,63078704</td>\n",
       "      <td>-2,179398148</td>\n",
       "      <td>71,12133488</td>\n",
       "      <td>-18,75366512</td>\n",
       "      <td>-2,62654321</td>\n",
       "      <td>-272,3979552</td>\n",
       "      <td>9,696180555</td>\n",
       "      <td>19,11921296</td>\n",
       "      <td>-18,67438272</td>\n",
       "      <td>...</td>\n",
       "      <td>-17,14351852</td>\n",
       "      <td>87,1875</td>\n",
       "      <td>-39,09220679</td>\n",
       "      <td>25,8128858</td>\n",
       "      <td>9,401813272</td>\n",
       "      <td>-75,57233796</td>\n",
       "      <td>-19,9529321</td>\n",
       "      <td>-3,157021605</td>\n",
       "      <td>-374,4403935</td>\n",
       "      <td>9,897569444</td>\n",
       "    </tr>\n",
       "    <tr>\n",
       "      <th>2</th>\n",
       "      <td>64,59625772</td>\n",
       "      <td>129,7974537</td>\n",
       "      <td>-196,4016204</td>\n",
       "      <td>33,14911265</td>\n",
       "      <td>5,524112655</td>\n",
       "      <td>-48,30709877</td>\n",
       "      <td>90,07426698</td>\n",
       "      <td>-55,81770833</td>\n",
       "      <td>67,0775463</td>\n",
       "      <td>-232,5216049</td>\n",
       "      <td>...</td>\n",
       "      <td>52,16203704</td>\n",
       "      <td>253,6041667</td>\n",
       "      <td>30,96334877</td>\n",
       "      <td>-271,1593364</td>\n",
       "      <td>72,2351466</td>\n",
       "      <td>86,12210648</td>\n",
       "      <td>280,9220679</td>\n",
       "      <td>20,98186728</td>\n",
       "      <td>-285,3431713</td>\n",
       "      <td>3,842013889</td>\n",
       "    </tr>\n",
       "    <tr>\n",
       "      <th>3</th>\n",
       "      <td>10,49903549</td>\n",
       "      <td>76,76967593</td>\n",
       "      <td>238,7094907</td>\n",
       "      <td>-174,2397762</td>\n",
       "      <td>-79,98977623</td>\n",
       "      <td>-39,90432099</td>\n",
       "      <td>209,3937114</td>\n",
       "      <td>-16,05381944</td>\n",
       "      <td>-29,90856481</td>\n",
       "      <td>-56,85493827</td>\n",
       "      <td>...</td>\n",
       "      <td>34,99537037</td>\n",
       "      <td>121,7986111</td>\n",
       "      <td>198,2272377</td>\n",
       "      <td>-236,339892</td>\n",
       "      <td>-47,23707562</td>\n",
       "      <td>-206,7251157</td>\n",
       "      <td>-143,6334877</td>\n",
       "      <td>-44,43479938</td>\n",
       "      <td>-335,134838</td>\n",
       "      <td>-35,49131944</td>\n",
       "    </tr>\n",
       "    <tr>\n",
       "      <th>4</th>\n",
       "      <td>-88,1398534</td>\n",
       "      <td>-69,46643519</td>\n",
       "      <td>-145,4293981</td>\n",
       "      <td>-40,55922068</td>\n",
       "      <td>-144,7258873</td>\n",
       "      <td>-78,91820988</td>\n",
       "      <td>39,47704475</td>\n",
       "      <td>-38,20659722</td>\n",
       "      <td>-25,63078704</td>\n",
       "      <td>146,117284</td>\n",
       "      <td>...</td>\n",
       "      <td>-39,85185185</td>\n",
       "      <td>-60,78472222</td>\n",
       "      <td>46,71334877</td>\n",
       "      <td>93,45177469</td>\n",
       "      <td>-38,36207562</td>\n",
       "      <td>-545,7112269</td>\n",
       "      <td>1,56095679</td>\n",
       "      <td>-21,1570216</td>\n",
       "      <td>-410,0237269</td>\n",
       "      <td>-39,38020833</td>\n",
       "    </tr>\n",
       "  </tbody>\n",
       "</table>\n",
       "<p>5 rows × 7129 columns</p>\n",
       "</div>"
      ],
      "text/plain": [
       "gen_names             x             x             x             x  \\\n",
       "0           -72,8898534   27,78356481   -43,8599537  -123,0592207   \n",
       "1          -30,34818673   78,63078704  -2,179398148   71,12133488   \n",
       "2           64,59625772   129,7974537  -196,4016204   33,14911265   \n",
       "3           10,49903549   76,76967593   238,7094907  -174,2397762   \n",
       "4           -88,1398534  -69,46643519  -145,4293981  -40,55922068   \n",
       "\n",
       "gen_names             x             x             x             x  \\\n",
       "0          -10,68422068  -96,79320988   224,4076003   32,27951389   \n",
       "1          -18,75366512   -2,62654321  -272,3979552   9,696180555   \n",
       "2           5,524112655  -48,30709877   90,07426698  -55,81770833   \n",
       "3          -79,98977623  -39,90432099   209,3937114  -16,05381944   \n",
       "4          -144,7258873  -78,91820988   39,47704475  -38,20659722   \n",
       "\n",
       "gen_names             x             x  ...        STAT5B         MFGE8  \\\n",
       "0           123,0636574   73,20061728  ...  -30,19907407  -238,8402778   \n",
       "1           19,11921296  -18,67438272  ...  -17,14351852       87,1875   \n",
       "2            67,0775463  -232,5216049  ...   52,16203704   253,6041667   \n",
       "3          -29,90856481  -56,85493827  ...   34,99537037   121,7986111   \n",
       "4          -25,63078704    146,117284  ...  -39,85185185  -60,78472222   \n",
       "\n",
       "gen_names        CAMK2D        TUBA4A        CYP4B1        PTGER3  \\\n",
       "0          -102,7033179  -69,96489198   1,776813272  -90,51678241   \n",
       "1          -39,09220679    25,8128858   9,401813272  -75,57233796   \n",
       "2           30,96334877  -271,1593364    72,2351466   86,12210648   \n",
       "3           198,2272377   -236,339892  -47,23707562  -206,7251157   \n",
       "4           46,71334877   93,45177469  -38,36207562  -545,7112269   \n",
       "\n",
       "gen_names             x           RB1          GYPA             x  \n",
       "0          -29,36959876   16,67631173  -296,9403935  -1,324652778  \n",
       "1           -19,9529321  -3,157021605  -374,4403935   9,897569444  \n",
       "2           280,9220679   20,98186728  -285,3431713   3,842013889  \n",
       "3          -143,6334877  -44,43479938   -335,134838  -35,49131944  \n",
       "4            1,56095679   -21,1570216  -410,0237269  -39,38020833  \n",
       "\n",
       "[5 rows x 7129 columns]"
      ]
     },
     "execution_count": 427,
     "metadata": {},
     "output_type": "execute_result"
    }
   ],
   "source": [
    "df.head()"
   ]
  },
  {
   "cell_type": "code",
   "execution_count": 428,
   "metadata": {},
   "outputs": [],
   "source": [
    "X = df\n",
    "y = dfvysl"
   ]
  },
  {
   "cell_type": "code",
   "execution_count": 429,
   "metadata": {},
   "outputs": [],
   "source": [
    "X = X.replace(',','.', regex=True)\n",
    "y = y.replace(',','.', regex=True)"
   ]
  },
  {
   "cell_type": "code",
   "execution_count": 430,
   "metadata": {},
   "outputs": [],
   "source": [
    "X_train, X_test, y_train, y_test = train_test_split(X, y, random_state=1)"
   ]
  },
  {
   "cell_type": "code",
   "execution_count": 431,
   "metadata": {},
   "outputs": [
    {
     "name": "stdout",
     "output_type": "stream",
     "text": [
      "Accuracy train: 1.0\n",
      "Accuracy test: 0.9444444444444444\n"
     ]
    },
    {
     "data": {
      "image/png": "[encoded data removed]",
      "text/plain": [
       "<Figure size 432x288 with 1 Axes>"
      ]
     },
     "metadata": {
      "needs_background": "light"
     },
     "output_type": "display_data"
    }
   ],
   "source": [
    "dt = DecisionTreeClassifier()\n",
    "dt.fit(X_train, y_train)\n",
    "tree.plot_tree(clf)\n",
    "y_pred = clf.predict(X_test)\n",
    "y_pred_train = clf.predict(X_train)\n",
    "print(\"Accuracy train:\",metrics.accuracy_score(y_train, y_pred_train))\n",
    "print(\"Accuracy test:\",metrics.accuracy_score(y_test, y_pred))"
   ]
  },
  {
   "cell_type": "code",
   "execution_count": 432,
   "metadata": {},
   "outputs": [],
   "source": [
    "X_pca = df\n",
    "y_pca = dfvysl\n",
    "X_pca = X_pca.replace(',','.', regex=True)\n",
    "y_pca = y_pca.replace(',','.', regex=True)"
   ]
  },
  {
   "cell_type": "code",
   "execution_count": 433,
   "metadata": {},
   "outputs": [],
   "source": [
    "X_train, X_test, y_train, y_test = train_test_split(X_pca, y_pca, test_size=0.2, random_state=0)"
   ]
  },
  {
   "cell_type": "code",
   "execution_count": 434,
   "metadata": {},
   "outputs": [],
   "source": [
    "sc = StandardScaler()\n",
    "X_train = sc.fit_transform(X_train)\n",
    "X_test = sc.transform(X_test)"
   ]
  },
  {
   "cell_type": "code",
   "execution_count": 435,
   "metadata": {},
   "outputs": [],
   "source": [
    "pca = PCA()\n",
    "X_train = pca.fit_transform(X_train)\n",
    "X_test = pca.transform(X_test)"
   ]
  },
  {
   "cell_type": "code",
   "execution_count": 436,
   "metadata": {},
   "outputs": [],
   "source": [
    "explained_variance = pca.explained_variance_ratio_"
   ]
  },
  {
   "cell_type": "code",
   "execution_count": 437,
   "metadata": {},
   "outputs": [
    {
     "data": {
      "text/plain": [
       "array([9.89911064e-02, 5.11269072e-02, 4.67840900e-02, 4.34271593e-02,\n",
       "       4.02431168e-02, 3.80297195e-02, 3.09091615e-02, 2.88780560e-02,\n",
       "       2.64020747e-02, 2.49490264e-02, 2.40079891e-02, 2.17000230e-02,\n",
       "       2.09625377e-02, 2.05724707e-02, 1.93842507e-02, 1.91167404e-02,\n",
       "       1.78408940e-02, 1.75270018e-02, 1.66772363e-02, 1.61258216e-02,\n",
       "       1.59102437e-02, 1.54362140e-02, 1.51949246e-02, 1.44048725e-02,\n",
       "       1.39940099e-02, 1.38705889e-02, 1.32483492e-02, 1.29341022e-02,\n",
       "       1.27653201e-02, 1.23832094e-02, 1.17955207e-02, 1.15267695e-02,\n",
       "       1.13773101e-02, 1.11183017e-02, 1.09975755e-02, 1.05682052e-02,\n",
       "       1.03027618e-02, 1.00405160e-02, 9.84748390e-03, 9.82471478e-03,\n",
       "       9.49702939e-03, 9.26981673e-03, 9.05428490e-03, 8.98080435e-03,\n",
       "       8.71902499e-03, 8.60104556e-03, 8.37656098e-03, 8.19631109e-03,\n",
       "       8.10382495e-03, 7.80038023e-03, 7.70622760e-03, 7.61465693e-03,\n",
       "       7.34533162e-03, 7.05082437e-03, 6.59249698e-03, 5.89500272e-03,\n",
       "       1.95225534e-32])"
      ]
     },
     "execution_count": 437,
     "metadata": {},
     "output_type": "execute_result"
    }
   ],
   "source": [
    "explained_variance "
   ]
  },
  {
   "cell_type": "code",
   "execution_count": 450,
   "metadata": {},
   "outputs": [],
   "source": [
    "pca = PCA(n_components=1)\n",
    "X_train = pca.fit_transform(X_train)\n",
    "X_test = pca.transform(X_test)"
   ]
  },
  {
   "cell_type": "code",
   "execution_count": 451,
   "metadata": {},
   "outputs": [],
   "source": [
    "from sklearn.ensemble import RandomForestClassifier\n",
    "\n",
    "classifier = RandomForestClassifier(max_depth=2, random_state=0)\n",
    "classifier.fit(X_train, y_train.values.ravel())\n",
    "# Predicting the Test set results\n",
    "y_pred = classifier.predict(X_test)"
   ]
  },
  {
   "cell_type": "code",
   "execution_count": 459,
   "metadata": {},
   "outputs": [
    {
     "name": "stdout",
     "output_type": "stream",
     "text": [
      "Accuracy: 0.3333333333333333\n"
     ]
    }
   ],
   "source": [
    "\n",
    "print(\"Accuracy:\",metrics.accuracy_score(y_test, y_pred))"
   ]
  },
  {
   "cell_type": "code",
   "execution_count": null,
   "metadata": {},
   "outputs": [],
   "source": []
  }
 ],
 "metadata": {
  "kernelspec": {
   "display_name": "Python 3",
   "language": "python",
   "name": "python3"
  },
  "language_info": {
   "codemirror_mode": {
    "name": "ipython",
    "version": 3
   },
   "file_extension": ".py",
   "mimetype": "text/x-python",
   "name": "python",
   "nbconvert_exporter": "python",
   "pygments_lexer": "ipython3",
   "version": "3.9.2"
  }
 },
 "nbformat": 4,
 "nbformat_minor": 4
}
