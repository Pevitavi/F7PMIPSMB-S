{
 "cells": [
  {
   "cell_type": "code",
   "execution_count": 1,
   "id": "downtown-border",
   "metadata": {},
   "outputs": [],
   "source": [
    "import numpy as np\n",
    "import pandas as pd\n",
    "import matplotlib.pyplot as plt\n",
    "import torch\n",
    "import torch.nn as nn\n",
    "from sklearn.preprocessing import StandardScaler\n",
    "from sklearn.model_selection import train_test_split\n",
    "from sklearn.feature_selection import VarianceThreshold"
   ]
  },
  {
   "cell_type": "code",
   "execution_count": 4,
   "id": "southeast-filename",
   "metadata": {},
   "outputs": [],
   "source": [
    "from rdkit import Chem, DataStructs\n",
    "from rdkit.Chem import PandasTools, AllChem"
   ]
  },
  {
   "cell_type": "code",
   "execution_count": 5,
   "id": "silent-parent",
   "metadata": {},
   "outputs": [
    {
     "data": {
      "text/html": [
       "<div>\n",
       "<style scoped>\n",
       "    .dataframe tbody tr th:only-of-type {\n",
       "        vertical-align: middle;\n",
       "    }\n",
       "\n",
       "    .dataframe tbody tr th {\n",
       "        vertical-align: top;\n",
       "    }\n",
       "\n",
       "    .dataframe thead th {\n",
       "        text-align: right;\n",
       "    }\n",
       "</style>\n",
       "<table border=\"1\" class=\"dataframe\">\n",
       "  <thead>\n",
       "    <tr style=\"text-align: right;\">\n",
       "      <th></th>\n",
       "      <th>Ambit_InchiKey</th>\n",
       "      <th>Original_Entry_ID</th>\n",
       "      <th>Entrez_ID</th>\n",
       "      <th>Activity_Flag</th>\n",
       "      <th>pXC50</th>\n",
       "      <th>DB</th>\n",
       "      <th>Original_Assay_ID</th>\n",
       "      <th>Tax_ID</th>\n",
       "      <th>Gene_Symbol</th>\n",
       "      <th>Ortholog_Group</th>\n",
       "      <th>SMILES</th>\n",
       "    </tr>\n",
       "  </thead>\n",
       "  <tbody>\n",
       "    <tr>\n",
       "      <th>0</th>\n",
       "      <td>CWYBNSVSYKQGJB-UHFFFAOYNA-N</td>\n",
       "      <td>71541095</td>\n",
       "      <td>6532</td>\n",
       "      <td>A</td>\n",
       "      <td>6.85387</td>\n",
       "      <td>pubchem</td>\n",
       "      <td>727355</td>\n",
       "      <td>9606</td>\n",
       "      <td>SLC6A4</td>\n",
       "      <td>4061</td>\n",
       "      <td>ClC=1C=C(C2CCCCNC2)C=CC1Cl</td>\n",
       "    </tr>\n",
       "    <tr>\n",
       "      <th>1</th>\n",
       "      <td>CTETYYAZBPJBHE-UHFFFAOYNA-N</td>\n",
       "      <td>CHEMBL1289</td>\n",
       "      <td>6532</td>\n",
       "      <td>A</td>\n",
       "      <td>6.37000</td>\n",
       "      <td>chembl20</td>\n",
       "      <td>774720</td>\n",
       "      <td>9606</td>\n",
       "      <td>SLC6A4</td>\n",
       "      <td>4061</td>\n",
       "      <td>C(#CI)COC=1C=C(Cl)C(=CC1Cl)Cl</td>\n",
       "    </tr>\n",
       "    <tr>\n",
       "      <th>2</th>\n",
       "      <td>FQDRMHHCWZAXJM-UHFFFAOYNA-N</td>\n",
       "      <td>125558</td>\n",
       "      <td>25553</td>\n",
       "      <td>A</td>\n",
       "      <td>9.98297</td>\n",
       "      <td>pubchem</td>\n",
       "      <td>205028</td>\n",
       "      <td>10116</td>\n",
       "      <td>SLC6A4</td>\n",
       "      <td>4061</td>\n",
       "      <td>O1C=2C=C3CC(N)CC3=CC2OC1</td>\n",
       "    </tr>\n",
       "    <tr>\n",
       "      <th>3</th>\n",
       "      <td>QRAWNNQNLQPNIZ-UHFFFAOYNA-N</td>\n",
       "      <td>CHEMBL205229</td>\n",
       "      <td>6532</td>\n",
       "      <td>A</td>\n",
       "      <td>7.54000</td>\n",
       "      <td>chembl20</td>\n",
       "      <td>950695</td>\n",
       "      <td>9606</td>\n",
       "      <td>SLC6A4</td>\n",
       "      <td>4061</td>\n",
       "      <td>N1C=C(CCN)C2=C1C(=CC=C2)F</td>\n",
       "    </tr>\n",
       "    <tr>\n",
       "      <th>4</th>\n",
       "      <td>HCFHWXDIZOAUTQ-UHFFFAOYNA-N</td>\n",
       "      <td>CHEMBL6376</td>\n",
       "      <td>25553</td>\n",
       "      <td>A</td>\n",
       "      <td>6.11000</td>\n",
       "      <td>chembl20</td>\n",
       "      <td>201505</td>\n",
       "      <td>10116</td>\n",
       "      <td>SLC6A4</td>\n",
       "      <td>4061</td>\n",
       "      <td>C1(=CC=2OCOC2C=C1C)CC(N)C</td>\n",
       "    </tr>\n",
       "  </tbody>\n",
       "</table>\n",
       "</div>"
      ],
      "text/plain": [
       "                Ambit_InchiKey Original_Entry_ID  Entrez_ID Activity_Flag  \\\n",
       "0  CWYBNSVSYKQGJB-UHFFFAOYNA-N          71541095       6532             A   \n",
       "1  CTETYYAZBPJBHE-UHFFFAOYNA-N        CHEMBL1289       6532             A   \n",
       "2  FQDRMHHCWZAXJM-UHFFFAOYNA-N            125558      25553             A   \n",
       "3  QRAWNNQNLQPNIZ-UHFFFAOYNA-N      CHEMBL205229       6532             A   \n",
       "4  HCFHWXDIZOAUTQ-UHFFFAOYNA-N        CHEMBL6376      25553             A   \n",
       "\n",
       "     pXC50        DB  Original_Assay_ID  Tax_ID Gene_Symbol  Ortholog_Group  \\\n",
       "0  6.85387   pubchem             727355    9606      SLC6A4            4061   \n",
       "1  6.37000  chembl20             774720    9606      SLC6A4            4061   \n",
       "2  9.98297   pubchem             205028   10116      SLC6A4            4061   \n",
       "3  7.54000  chembl20             950695    9606      SLC6A4            4061   \n",
       "4  6.11000  chembl20             201505   10116      SLC6A4            4061   \n",
       "\n",
       "                          SMILES  \n",
       "0     ClC=1C=C(C2CCCCNC2)C=CC1Cl  \n",
       "1  C(#CI)COC=1C=C(Cl)C(=CC1Cl)Cl  \n",
       "2       O1C=2C=C3CC(N)CC3=CC2OC1  \n",
       "3      N1C=C(CCN)C2=C1C(=CC=C2)F  \n",
       "4      C1(=CC=2OCOC2C=C1C)CC(N)C  "
      ]
     },
     "execution_count": 5,
     "metadata": {},
     "output_type": "execute_result"
    }
   ],
   "source": [
    "data = pd.read_csv(\"dataset.csv\")\n",
    "data.head(5)"
   ]
  },
  {
   "cell_type": "code",
   "execution_count": 6,
   "id": "handmade-capacity",
   "metadata": {},
   "outputs": [],
   "source": [
    "PandasTools.AddMoleculeColumnToFrame(data,'SMILES','Molecule')"
   ]
  },
  {
   "cell_type": "code",
   "execution_count": 7,
   "id": "blond-momentum",
   "metadata": {},
   "outputs": [
    {
     "data": {
      "text/html": [
       "<div>\n",
       "<style scoped>\n",
       "    .dataframe tbody tr th:only-of-type {\n",
       "        vertical-align: middle;\n",
       "    }\n",
       "\n",
       "    .dataframe tbody tr th {\n",
       "        vertical-align: top;\n",
       "    }\n",
       "\n",
       "    .dataframe thead th {\n",
       "        text-align: right;\n",
       "    }\n",
       "</style>\n",
       "<table border=\"1\" class=\"dataframe\">\n",
       "  <thead>\n",
       "    <tr style=\"text-align: right;\">\n",
       "      <th></th>\n",
       "      <th>Ambit_InchiKey</th>\n",
       "      <th>Original_Entry_ID</th>\n",
       "      <th>Entrez_ID</th>\n",
       "      <th>Activity_Flag</th>\n",
       "      <th>pXC50</th>\n",
       "      <th>DB</th>\n",
       "      <th>Original_Assay_ID</th>\n",
       "      <th>Tax_ID</th>\n",
       "      <th>Gene_Symbol</th>\n",
       "      <th>Ortholog_Group</th>\n",
       "      <th>SMILES</th>\n",
       "      <th>Molecule</th>\n",
       "    </tr>\n",
       "  </thead>\n",
       "  <tbody>\n",
       "    <tr>\n",
       "      <th>0</th>\n",
       "      <td>CWYBNSVSYKQGJB-UHFFFAOYNA-N</td>\n",
       "      <td>71541095</td>\n",
       "      <td>6532</td>\n",
       "      <td>A</td>\n",
       "      <td>6.85387</td>\n",
       "      <td>pubchem</td>\n",
       "      <td>727355</td>\n",
       "      <td>9606</td>\n",
       "      <td>SLC6A4</td>\n",
       "      <td>4061</td>\n",
       "      <td>ClC=1C=C(C2CCCCNC2)C=CC1Cl</td>\n",
       "      <td><img data-content=\"rdkit/molecule\" src=\"data:image/png;base64,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\" alt=\"Mol\"/></td>\n",
       "    </tr>\n",
       "    <tr>\n",
       "      <th>1</th>\n",
       "      <td>CTETYYAZBPJBHE-UHFFFAOYNA-N</td>\n",
       "      <td>CHEMBL1289</td>\n",
       "      <td>6532</td>\n",
       "      <td>A</td>\n",
       "      <td>6.37000</td>\n",
       "      <td>chembl20</td>\n",
       "      <td>774720</td>\n",
       "      <td>9606</td>\n",
       "      <td>SLC6A4</td>\n",
       "      <td>4061</td>\n",
       "      <td>C(#CI)COC=1C=C(Cl)C(=CC1Cl)Cl</td>\n",
       "      <td><img data-content=\"rdkit/molecule\" src=\"data:image/png;base64,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\" alt=\"Mol\"/></td>\n",
       "    </tr>\n",
       "    <tr>\n",
       "      <th>2</th>\n",
       "      <td>FQDRMHHCWZAXJM-UHFFFAOYNA-N</td>\n",
       "      <td>125558</td>\n",
       "      <td>25553</td>\n",
       "      <td>A</td>\n",
       "      <td>9.98297</td>\n",
       "      <td>pubchem</td>\n",
       "      <td>205028</td>\n",
       "      <td>10116</td>\n",
       "      <td>SLC6A4</td>\n",
       "      <td>4061</td>\n",
       "      <td>O1C=2C=C3CC(N)CC3=CC2OC1</td>\n",
       "      <td><img data-content=\"rdkit/molecule\" src=\"data:image/png;base64,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\" alt=\"Mol\"/></td>\n",
       "    </tr>\n",
       "    <tr>\n",
       "      <th>3</th>\n",
       "      <td>QRAWNNQNLQPNIZ-UHFFFAOYNA-N</td>\n",
       "      <td>CHEMBL205229</td>\n",
       "      <td>6532</td>\n",
       "      <td>A</td>\n",
       "      <td>7.54000</td>\n",
       "      <td>chembl20</td>\n",
       "      <td>950695</td>\n",
       "      <td>9606</td>\n",
       "      <td>SLC6A4</td>\n",
       "      <td>4061</td>\n",
       "      <td>N1C=C(CCN)C2=C1C(=CC=C2)F</td>\n",
       "      <td><img data-content=\"rdkit/molecule\" src=\"data:image/png;base64,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\" alt=\"Mol\"/></td>\n",
       "    </tr>\n",
       "    <tr>\n",
       "      <th>4</th>\n",
       "      <td>HCFHWXDIZOAUTQ-UHFFFAOYNA-N</td>\n",
       "      <td>CHEMBL6376</td>\n",
       "      <td>25553</td>\n",
       "      <td>A</td>\n",
       "      <td>6.11000</td>\n",
       "      <td>chembl20</td>\n",
       "      <td>201505</td>\n",
       "      <td>10116</td>\n",
       "      <td>SLC6A4</td>\n",
       "      <td>4061</td>\n",
       "      <td>C1(=CC=2OCOC2C=C1C)CC(N)C</td>\n",
       "      <td><img data-content=\"rdkit/molecule\" src=\"data:image/png;base64,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\" alt=\"Mol\"/></td>\n",
       "    </tr>\n",
       "  </tbody>\n",
       "</table>\n",
       "</div>"
      ],
      "text/plain": [
       "                Ambit_InchiKey Original_Entry_ID  Entrez_ID Activity_Flag  \\\n",
       "0  CWYBNSVSYKQGJB-UHFFFAOYNA-N          71541095       6532             A   \n",
       "1  CTETYYAZBPJBHE-UHFFFAOYNA-N        CHEMBL1289       6532             A   \n",
       "2  FQDRMHHCWZAXJM-UHFFFAOYNA-N            125558      25553             A   \n",
       "3  QRAWNNQNLQPNIZ-UHFFFAOYNA-N      CHEMBL205229       6532             A   \n",
       "4  HCFHWXDIZOAUTQ-UHFFFAOYNA-N        CHEMBL6376      25553             A   \n",
       "\n",
       "     pXC50        DB  Original_Assay_ID  Tax_ID Gene_Symbol  Ortholog_Group  \\\n",
       "0  6.85387   pubchem             727355    9606      SLC6A4            4061   \n",
       "1  6.37000  chembl20             774720    9606      SLC6A4            4061   \n",
       "2  9.98297   pubchem             205028   10116      SLC6A4            4061   \n",
       "3  7.54000  chembl20             950695    9606      SLC6A4            4061   \n",
       "4  6.11000  chembl20             201505   10116      SLC6A4            4061   \n",
       "\n",
       "                          SMILES  \\\n",
       "0     ClC=1C=C(C2CCCCNC2)C=CC1Cl   \n",
       "1  C(#CI)COC=1C=C(Cl)C(=CC1Cl)Cl   \n",
       "2       O1C=2C=C3CC(N)CC3=CC2OC1   \n",
       "3      N1C=C(CCN)C2=C1C(=CC=C2)F   \n",
       "4      C1(=CC=2OCOC2C=C1C)CC(N)C   \n",
       "\n",
       "                                            Molecule  \n",
       "0  <img data-content=\"rdkit/molecule\" src=\"data:i...  \n",
       "1  <img data-content=\"rdkit/molecule\" src=\"data:i...  \n",
       "2  <img data-content=\"rdkit/molecule\" src=\"data:i...  \n",
       "3  <img data-content=\"rdkit/molecule\" src=\"data:i...  \n",
       "4  <img data-content=\"rdkit/molecule\" src=\"data:i...  "
      ]
     },
     "execution_count": 7,
     "metadata": {},
     "output_type": "execute_result"
    }
   ],
   "source": [
    "data.head()"
   ]
  },
  {
   "cell_type": "code",
   "execution_count": 8,
   "id": "adaptive-vault",
   "metadata": {},
   "outputs": [
    {
     "data": {
      "text/plain": [
       "array([[<rdkit.Chem.rdchem.Mol object at 0x0000026C9BCADD00>],\n",
       "       [<rdkit.Chem.rdchem.Mol object at 0x0000026C9BCADD60>],\n",
       "       [<rdkit.Chem.rdchem.Mol object at 0x0000026C9BCADA60>],\n",
       "       ...,\n",
       "       [<rdkit.Chem.rdchem.Mol object at 0x0000026CA2C35B80>],\n",
       "       [<rdkit.Chem.rdchem.Mol object at 0x0000026CA2C35BE0>],\n",
       "       [<rdkit.Chem.rdchem.Mol object at 0x0000026CA2C35C40>]],\n",
       "      dtype=object)"
      ]
     },
     "execution_count": 8,
     "metadata": {},
     "output_type": "execute_result"
    }
   ],
   "source": [
    "data[[\"Molecule\"]].values"
   ]
  },
  {
   "cell_type": "code",
   "execution_count": 9,
   "id": "meaning-spiritual",
   "metadata": {},
   "outputs": [
    {
     "data": {
      "text/plain": [
       "0"
      ]
     },
     "execution_count": 9,
     "metadata": {},
     "output_type": "execute_result"
    }
   ],
   "source": [
    "data.Molecule.isna().sum()"
   ]
  },
  {
   "cell_type": "code",
   "execution_count": 10,
   "id": "chronic-edmonton",
   "metadata": {},
   "outputs": [
    {
     "data": {
      "text/plain": [
       "array([<rdkit.Chem.rdchem.Mol object at 0x0000026C9BCADD00>,\n",
       "       <rdkit.Chem.rdchem.Mol object at 0x0000026C9BCADD60>,\n",
       "       <rdkit.Chem.rdchem.Mol object at 0x0000026C9BCADA60>, ...,\n",
       "       <rdkit.Chem.rdchem.Mol object at 0x0000026CA2C35B80>,\n",
       "       <rdkit.Chem.rdchem.Mol object at 0x0000026CA2C35BE0>,\n",
       "       <rdkit.Chem.rdchem.Mol object at 0x0000026CA2C35C40>], dtype=object)"
      ]
     },
     "execution_count": 10,
     "metadata": {},
     "output_type": "execute_result"
    }
   ],
   "source": [
    "data.Molecule.values"
   ]
  },
  {
   "cell_type": "code",
   "execution_count": 11,
   "id": "chinese-dominican",
   "metadata": {},
   "outputs": [
    {
     "data": {
      "text/plain": [
       "<matplotlib.image.AxesImage at 0x26ca5c2c5b0>"
      ]
     },
     "execution_count": 11,
     "metadata": {},
     "output_type": "execute_result"
    },
    {
     "data": {
      "image/png": "[encoded data removed]",
      "text/plain": [
       "<Figure size 288x288 with 1 Axes>"
      ]
     },
     "metadata": {
      "needs_background": "light"
     },
     "output_type": "display_data"
    }
   ],
   "source": [
    "def mol2fp(mol):\n",
    "    fp = AllChem.GetHashedMorganFingerprint(mol, 2, nBits=4096)\n",
    "    ar = np.zeros((1,), dtype=np.int8)\n",
    "    DataStructs.ConvertToNumpyArray(fp, ar)\n",
    "    return ar\n",
    "     \n",
    "fp = mol2fp(Chem.MolFromSmiles(data.loc[1,\"SMILES\"]))\n",
    "plt.matshow(fp.reshape((64,-1)) > 0)"
   ]
  },
  {
   "cell_type": "code",
   "execution_count": 12,
   "id": "centered-afternoon",
   "metadata": {},
   "outputs": [
    {
     "data": {
      "text/plain": [
       "'C(#CI)COC=1C=C(Cl)C(=CC1Cl)Cl'"
      ]
     },
     "execution_count": 12,
     "metadata": {},
     "output_type": "execute_result"
    }
   ],
   "source": [
    "data.loc[1,\"SMILES\"]"
   ]
  },
  {
   "cell_type": "code",
   "execution_count": 13,
   "id": "environmental-swift",
   "metadata": {},
   "outputs": [
    {
     "data": {
      "text/plain": [
       "array([[0, 0, 0, ..., 0, 0, 0],\n",
       "       [0, 0, 0, ..., 0, 0, 0],\n",
       "       [0, 0, 0, ..., 0, 0, 0],\n",
       "       ...,\n",
       "       [0, 0, 0, ..., 0, 0, 0],\n",
       "       [0, 0, 0, ..., 0, 0, 0],\n",
       "       [0, 0, 0, ..., 0, 0, 0]], dtype=int8)"
      ]
     },
     "execution_count": 13,
     "metadata": {},
     "output_type": "execute_result"
    }
   ],
   "source": [
    "fp.reshape((64,-1))"
   ]
  },
  {
   "cell_type": "code",
   "execution_count": 14,
   "id": "earlier-brook",
   "metadata": {},
   "outputs": [
    {
     "data": {
      "text/plain": [
       "4096"
      ]
     },
     "execution_count": 14,
     "metadata": {},
     "output_type": "execute_result"
    }
   ],
   "source": [
    "64*64"
   ]
  },
  {
   "cell_type": "code",
   "execution_count": 15,
   "id": "original-ranch",
   "metadata": {},
   "outputs": [
    {
     "data": {
      "text/plain": [
       "array([0, 0, 0, ..., 0, 0, 0], dtype=int8)"
      ]
     },
     "execution_count": 15,
     "metadata": {},
     "output_type": "execute_result"
    }
   ],
   "source": [
    "fp"
   ]
  },
  {
   "cell_type": "code",
   "execution_count": 16,
   "id": "thermal-milwaukee",
   "metadata": {},
   "outputs": [],
   "source": [
    "fp = AllChem.GetHashedMorganFingerprint(Chem.MolFromSmiles(data.loc[1,\"SMILES\"]), 2, nBits=4096)\n",
    "ar = np.zeros((1,), dtype=np.int8)\n",
    "DataStructs.ConvertToNumpyArray(fp, ar)"
   ]
  },
  {
   "cell_type": "code",
   "execution_count": 17,
   "id": "recorded-columbus",
   "metadata": {},
   "outputs": [
    {
     "data": {
      "text/plain": [
       "<rdkit.DataStructs.cDataStructs.UIntSparseIntVect at 0x26ca5ce6a00>"
      ]
     },
     "execution_count": 17,
     "metadata": {},
     "output_type": "execute_result"
    }
   ],
   "source": [
    "fp"
   ]
  },
  {
   "cell_type": "code",
   "execution_count": 18,
   "id": "mineral-universe",
   "metadata": {},
   "outputs": [
    {
     "data": {
      "text/plain": [
       "array([0, 0, 0, ..., 0, 0, 0], dtype=int8)"
      ]
     },
     "execution_count": 18,
     "metadata": {},
     "output_type": "execute_result"
    }
   ],
   "source": [
    "ar"
   ]
  },
  {
   "cell_type": "code",
   "execution_count": 19,
   "id": "specialized-pizza",
   "metadata": {},
   "outputs": [
    {
     "data": {
      "text/plain": [
       "array([0], dtype=int8)"
      ]
     },
     "execution_count": 19,
     "metadata": {},
     "output_type": "execute_result"
    }
   ],
   "source": [
    "np.zeros((1,), dtype=np.int8)"
   ]
  },
  {
   "cell_type": "code",
   "execution_count": 20,
   "id": "structural-daisy",
   "metadata": {},
   "outputs": [],
   "source": [
    "data[\"FPs\"] = data.Molecule.apply(mol2fp)"
   ]
  },
  {
   "cell_type": "code",
   "execution_count": 21,
   "id": "assigned-ridge",
   "metadata": {},
   "outputs": [
    {
     "data": {
      "text/html": [
       "<div>\n",
       "<style scoped>\n",
       "    .dataframe tbody tr th:only-of-type {\n",
       "        vertical-align: middle;\n",
       "    }\n",
       "\n",
       "    .dataframe tbody tr th {\n",
       "        vertical-align: top;\n",
       "    }\n",
       "\n",
       "    .dataframe thead th {\n",
       "        text-align: right;\n",
       "    }\n",
       "</style>\n",
       "<table border=\"1\" class=\"dataframe\">\n",
       "  <thead>\n",
       "    <tr style=\"text-align: right;\">\n",
       "      <th></th>\n",
       "      <th>Ambit_InchiKey</th>\n",
       "      <th>Original_Entry_ID</th>\n",
       "      <th>Entrez_ID</th>\n",
       "      <th>Activity_Flag</th>\n",
       "      <th>pXC50</th>\n",
       "      <th>DB</th>\n",
       "      <th>Original_Assay_ID</th>\n",
       "      <th>Tax_ID</th>\n",
       "      <th>Gene_Symbol</th>\n",
       "      <th>Ortholog_Group</th>\n",
       "      <th>SMILES</th>\n",
       "      <th>Molecule</th>\n",
       "      <th>FPs</th>\n",
       "    </tr>\n",
       "  </thead>\n",
       "  <tbody>\n",
       "    <tr>\n",
       "      <th>0</th>\n",
       "      <td>CWYBNSVSYKQGJB-UHFFFAOYNA-N</td>\n",
       "      <td>71541095</td>\n",
       "      <td>6532</td>\n",
       "      <td>A</td>\n",
       "      <td>6.85387</td>\n",
       "      <td>pubchem</td>\n",
       "      <td>727355</td>\n",
       "      <td>9606</td>\n",
       "      <td>SLC6A4</td>\n",
       "      <td>4061</td>\n",
       "      <td>ClC=1C=C(C2CCCCNC2)C=CC1Cl</td>\n",
       "      <td><img data-content=\"rdkit/molecule\" src=\"data:image/png;base64,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\" alt=\"Mol\"/></td>\n",
       "      <td>[0, 0, 0, 0, 0, 0, 0, 0, 0, 0, 0, 0, 0, 0, 0, ...</td>\n",
       "    </tr>\n",
       "    <tr>\n",
       "      <th>1</th>\n",
       "      <td>CTETYYAZBPJBHE-UHFFFAOYNA-N</td>\n",
       "      <td>CHEMBL1289</td>\n",
       "      <td>6532</td>\n",
       "      <td>A</td>\n",
       "      <td>6.37000</td>\n",
       "      <td>chembl20</td>\n",
       "      <td>774720</td>\n",
       "      <td>9606</td>\n",
       "      <td>SLC6A4</td>\n",
       "      <td>4061</td>\n",
       "      <td>C(#CI)COC=1C=C(Cl)C(=CC1Cl)Cl</td>\n",
       "      <td><img data-content=\"rdkit/molecule\" src=\"data:image/png;base64,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\" alt=\"Mol\"/></td>\n",
       "      <td>[0, 0, 0, 0, 0, 0, 0, 0, 0, 0, 0, 0, 0, 0, 0, ...</td>\n",
       "    </tr>\n",
       "    <tr>\n",
       "      <th>2</th>\n",
       "      <td>FQDRMHHCWZAXJM-UHFFFAOYNA-N</td>\n",
       "      <td>125558</td>\n",
       "      <td>25553</td>\n",
       "      <td>A</td>\n",
       "      <td>9.98297</td>\n",
       "      <td>pubchem</td>\n",
       "      <td>205028</td>\n",
       "      <td>10116</td>\n",
       "      <td>SLC6A4</td>\n",
       "      <td>4061</td>\n",
       "      <td>O1C=2C=C3CC(N)CC3=CC2OC1</td>\n",
       "      <td><img data-content=\"rdkit/molecule\" src=\"data:image/png;base64,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\" alt=\"Mol\"/></td>\n",
       "      <td>[0, 0, 0, 0, 0, 0, 0, 0, 0, 0, 0, 0, 0, 0, 0, ...</td>\n",
       "    </tr>\n",
       "    <tr>\n",
       "      <th>3</th>\n",
       "      <td>QRAWNNQNLQPNIZ-UHFFFAOYNA-N</td>\n",
       "      <td>CHEMBL205229</td>\n",
       "      <td>6532</td>\n",
       "      <td>A</td>\n",
       "      <td>7.54000</td>\n",
       "      <td>chembl20</td>\n",
       "      <td>950695</td>\n",
       "      <td>9606</td>\n",
       "      <td>SLC6A4</td>\n",
       "      <td>4061</td>\n",
       "      <td>N1C=C(CCN)C2=C1C(=CC=C2)F</td>\n",
       "      <td><img data-content=\"rdkit/molecule\" src=\"data:image/png;base64,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\" alt=\"Mol\"/></td>\n",
       "      <td>[0, 0, 0, 0, 0, 0, 0, 0, 0, 0, 0, 0, 0, 0, 0, ...</td>\n",
       "    </tr>\n",
       "    <tr>\n",
       "      <th>4</th>\n",
       "      <td>HCFHWXDIZOAUTQ-UHFFFAOYNA-N</td>\n",
       "      <td>CHEMBL6376</td>\n",
       "      <td>25553</td>\n",
       "      <td>A</td>\n",
       "      <td>6.11000</td>\n",
       "      <td>chembl20</td>\n",
       "      <td>201505</td>\n",
       "      <td>10116</td>\n",
       "      <td>SLC6A4</td>\n",
       "      <td>4061</td>\n",
       "      <td>C1(=CC=2OCOC2C=C1C)CC(N)C</td>\n",
       "      <td><img data-content=\"rdkit/molecule\" src=\"data:image/png;base64,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\" alt=\"Mol\"/></td>\n",
       "      <td>[0, 0, 0, 0, 0, 0, 0, 0, 0, 0, 0, 0, 0, 0, 0, ...</td>\n",
       "    </tr>\n",
       "  </tbody>\n",
       "</table>\n",
       "</div>"
      ],
      "text/plain": [
       "                Ambit_InchiKey Original_Entry_ID  Entrez_ID Activity_Flag  \\\n",
       "0  CWYBNSVSYKQGJB-UHFFFAOYNA-N          71541095       6532             A   \n",
       "1  CTETYYAZBPJBHE-UHFFFAOYNA-N        CHEMBL1289       6532             A   \n",
       "2  FQDRMHHCWZAXJM-UHFFFAOYNA-N            125558      25553             A   \n",
       "3  QRAWNNQNLQPNIZ-UHFFFAOYNA-N      CHEMBL205229       6532             A   \n",
       "4  HCFHWXDIZOAUTQ-UHFFFAOYNA-N        CHEMBL6376      25553             A   \n",
       "\n",
       "     pXC50        DB  Original_Assay_ID  Tax_ID Gene_Symbol  Ortholog_Group  \\\n",
       "0  6.85387   pubchem             727355    9606      SLC6A4            4061   \n",
       "1  6.37000  chembl20             774720    9606      SLC6A4            4061   \n",
       "2  9.98297   pubchem             205028   10116      SLC6A4            4061   \n",
       "3  7.54000  chembl20             950695    9606      SLC6A4            4061   \n",
       "4  6.11000  chembl20             201505   10116      SLC6A4            4061   \n",
       "\n",
       "                          SMILES  \\\n",
       "0     ClC=1C=C(C2CCCCNC2)C=CC1Cl   \n",
       "1  C(#CI)COC=1C=C(Cl)C(=CC1Cl)Cl   \n",
       "2       O1C=2C=C3CC(N)CC3=CC2OC1   \n",
       "3      N1C=C(CCN)C2=C1C(=CC=C2)F   \n",
       "4      C1(=CC=2OCOC2C=C1C)CC(N)C   \n",
       "\n",
       "                                            Molecule  \\\n",
       "0  <img data-content=\"rdkit/molecule\" src=\"data:i...   \n",
       "1  <img data-content=\"rdkit/molecule\" src=\"data:i...   \n",
       "2  <img data-content=\"rdkit/molecule\" src=\"data:i...   \n",
       "3  <img data-content=\"rdkit/molecule\" src=\"data:i...   \n",
       "4  <img data-content=\"rdkit/molecule\" src=\"data:i...   \n",
       "\n",
       "                                                 FPs  \n",
       "0  [0, 0, 0, 0, 0, 0, 0, 0, 0, 0, 0, 0, 0, 0, 0, ...  \n",
       "1  [0, 0, 0, 0, 0, 0, 0, 0, 0, 0, 0, 0, 0, 0, 0, ...  \n",
       "2  [0, 0, 0, 0, 0, 0, 0, 0, 0, 0, 0, 0, 0, 0, 0, ...  \n",
       "3  [0, 0, 0, 0, 0, 0, 0, 0, 0, 0, 0, 0, 0, 0, 0, ...  \n",
       "4  [0, 0, 0, 0, 0, 0, 0, 0, 0, 0, 0, 0, 0, 0, 0, ...  "
      ]
     },
     "execution_count": 21,
     "metadata": {},
     "output_type": "execute_result"
    }
   ],
   "source": [
    "data.head(5)"
   ]
  },
  {
   "cell_type": "code",
   "execution_count": 22,
   "id": "expected-scenario",
   "metadata": {},
   "outputs": [
    {
     "name": "stdout",
     "output_type": "stream",
     "text": [
      "(7228, 4096)\n"
     ]
    }
   ],
   "source": [
    "X = np.stack(data.FPs.values)\n",
    "print(X.shape)"
   ]
  },
  {
   "cell_type": "code",
   "execution_count": 23,
   "id": "guilty-cornwall",
   "metadata": {},
   "outputs": [],
   "source": [
    "y = data.pXC50.values.reshape((-1,1))"
   ]
  },
  {
   "cell_type": "code",
   "execution_count": 24,
   "id": "retired-finger",
   "metadata": {},
   "outputs": [
    {
     "data": {
      "text/plain": [
       "array([[6.85387],\n",
       "       [6.37   ],\n",
       "       [9.98297],\n",
       "       ...,\n",
       "       [6.60206],\n",
       "       [6.8    ],\n",
       "       [6.14   ]])"
      ]
     },
     "execution_count": 24,
     "metadata": {},
     "output_type": "execute_result"
    }
   ],
   "source": [
    "y"
   ]
  },
  {
   "cell_type": "code",
   "execution_count": 25,
   "id": "fossil-wallet",
   "metadata": {},
   "outputs": [],
   "source": [
    "X_train, X_test, y_train, y_test = train_test_split(X, y,  test_size=0.10, random_state=42)\n",
    "X_train, X_validation, y_train, y_validation = train_test_split(X_train, y_train,  test_size=0.05, random_state=42)\n",
    "#Normalizing output using standard scaling\n",
    "scaler = StandardScaler()\n",
    "y_train = scaler.fit_transform(y_train)\n",
    "y_test = scaler.transform(y_test)\n",
    "y_validation = scaler.transform(y_validation)"
   ]
  },
  {
   "cell_type": "code",
   "execution_count": 26,
   "id": "premier-coast",
   "metadata": {},
   "outputs": [
    {
     "data": {
      "text/plain": [
       "(6179, 222)"
      ]
     },
     "execution_count": 26,
     "metadata": {},
     "output_type": "execute_result"
    }
   ],
   "source": [
    "feature_select = VarianceThreshold(threshold=0.05)\n",
    "X_train = feature_select.fit_transform(X_train)\n",
    "X_validation = feature_select.transform(X_validation)\n",
    "X_test = feature_select.transform(X_test)\n",
    "X_train.shape"
   ]
  },
  {
   "cell_type": "code",
   "execution_count": 27,
   "id": "unavailable-return",
   "metadata": {},
   "outputs": [
    {
     "name": "stdout",
     "output_type": "stream",
     "text": [
      "cpu\n"
     ]
    },
    {
     "data": {
      "text/plain": [
       "tensor([[0., 0., 1.,  ..., 0., 0., 0.],\n",
       "        [0., 0., 0.,  ..., 0., 0., 0.],\n",
       "        [0., 0., 0.,  ..., 1., 0., 0.],\n",
       "        ...,\n",
       "        [0., 0., 0.,  ..., 0., 0., 0.],\n",
       "        [0., 0., 0.,  ..., 0., 0., 0.],\n",
       "        [0., 0., 0.,  ..., 0., 1., 0.]])"
      ]
     },
     "execution_count": 27,
     "metadata": {},
     "output_type": "execute_result"
    }
   ],
   "source": [
    "# Let's get those arrays transfered to the GPU memory as tensors\n",
    "device = torch.device(\"cuda:0\" if torch.cuda.is_available() else \"cpu\")\n",
    "print(device)\n",
    "# If you don't have a GPU, buy a graphics card. I have for a long time used a 1060 GTX, which is not that expensive anymore.\n",
    "X_train = torch.tensor(X_train, device=device).float()\n",
    "X_test = torch.tensor(X_test, device=device).float()\n",
    "X_validation = torch.tensor(X_validation, device=device).float()\n",
    "y_train = torch.tensor(y_train, device=device).float()\n",
    "y_test = torch.tensor(y_test, device=device).float()\n",
    "y_validation = torch.tensor(y_validation, device=device).float()\n",
    "X_train"
   ]
  },
  {
   "cell_type": "code",
   "execution_count": 28,
   "id": "outer-certificate",
   "metadata": {},
   "outputs": [
    {
     "data": {
      "text/plain": [
       "torch.Size([6179, 222])"
      ]
     },
     "execution_count": 28,
     "metadata": {},
     "output_type": "execute_result"
    }
   ],
   "source": [
    "X_train.shape"
   ]
  },
  {
   "cell_type": "code",
   "execution_count": 29,
   "id": "frank-uganda",
   "metadata": {},
   "outputs": [],
   "source": [
    "from torch.utils.data import TensorDataset\n",
    "train_dataset = TensorDataset(X_train, y_train)\n",
    "validation_dataset = TensorDataset(X_validation, y_validation)"
   ]
  },
  {
   "cell_type": "code",
   "execution_count": 30,
   "id": "legislative-boulder",
   "metadata": {},
   "outputs": [
    {
     "data": {
      "text/plain": [
       "<torch.utils.data.dataset.TensorDataset at 0x26ca7d67be0>"
      ]
     },
     "execution_count": 30,
     "metadata": {},
     "output_type": "execute_result"
    }
   ],
   "source": [
    "train_dataset"
   ]
  },
  {
   "cell_type": "code",
   "execution_count": 31,
   "id": "billion-wilderness",
   "metadata": {},
   "outputs": [],
   "source": [
    "train_loader = torch.utils.data.DataLoader(dataset=train_dataset,\n",
    "                                          batch_size=256,\n",
    "                                          shuffle=True)\n",
    "validation_loader = torch.utils.data.DataLoader(dataset=validation_dataset,\n",
    "                                          batch_size=256,\n",
    "                                          shuffle=False)"
   ]
  },
  {
   "cell_type": "code",
   "execution_count": 32,
   "id": "familiar-sugar",
   "metadata": {},
   "outputs": [],
   "source": [
    "class Net(nn.Module):\n",
    "    def __init__(self, input_size, hidden_size, dropout_rate, out_size):\n",
    "        super(Net, self).__init__()\n",
    "        # Three layers and a output layer\n",
    "        self.fc1 = nn.Linear(input_size, hidden_size)  # 1st Full-Connected Layer\n",
    "        self.fc2 = nn.Linear(hidden_size, hidden_size)\n",
    "        self.fc3 = nn.Linear(hidden_size, hidden_size)\n",
    "        self.fc_out = nn.Linear(hidden_size, out_size) # Output layer\n",
    "        #Layer normalization for faster training\n",
    "        self.ln1 = nn.LayerNorm(hidden_size)\n",
    "        self.ln2 = nn.LayerNorm(hidden_size)\n",
    "        self.ln3 = nn.LayerNorm(hidden_size)        \n",
    "        #LeakyReLU will be used as the activation function\n",
    "        self.activation = nn.LeakyReLU()\n",
    "        #Dropout for regularization\n",
    "        self.dropout = nn.Dropout(dropout_rate)\n",
    "     \n",
    "    def forward(self, x):# Forward pass: stacking each layer together\n",
    "        # Fully connected =&amp;gt; Layer Norm =&amp;gt; LeakyReLU =&amp;gt; Dropout times 3\n",
    "        out = self.fc1(x)\n",
    "        out = self.ln1(out)\n",
    "        out = self.activation(out)\n",
    "        out = self.dropout(out)\n",
    "        out = self.fc2(out)\n",
    "        out = self.ln2(out)\n",
    "        out = self.activation(out)\n",
    "        out = self.dropout(out)\n",
    "        out = self.fc3(out)\n",
    "        out = self.ln3(out)\n",
    "        out = self.activation(out)\n",
    "        out = self.dropout(out)\n",
    "        #Final output layer\n",
    "        out = self.fc_out(out)\n",
    "        return out"
   ]
  },
  {
   "cell_type": "code",
   "execution_count": 69,
   "id": "transsexual-recycling",
   "metadata": {},
   "outputs": [],
   "source": [
    "#Defining the hyperparameters\n",
    "input_size = X_train.size()[-1]     # The input size should fit our fingerprint size\n",
    "hidden_size = 1024   # The size of the hidden layer\n",
    "dropout_rate = 0.60    # The dropout rate\n",
    "output_size = 1        # This is just a single task, so this will be one\n",
    "learning_rate = 0.009  # The learning rate for the optimizer\n",
    "model = Net(input_size, hidden_size, dropout_rate, output_size)"
   ]
  },
  {
   "cell_type": "code",
   "execution_count": 70,
   "id": "immediate-extra",
   "metadata": {},
   "outputs": [],
   "source": [
    "criterion = nn.MSELoss()\n",
    "optimizer = torch.optim.Adam(model.parameters(), lr=learning_rate)"
   ]
  },
  {
   "cell_type": "code",
   "execution_count": 71,
   "id": "crude-margin",
   "metadata": {},
   "outputs": [
    {
     "name": "stdout",
     "output_type": "stream",
     "text": [
      "Epoch:   0 Training loss: 6.80 Validation loss: 1.45\n",
      "Epoch:  10 Training loss: 0.45 Validation loss: 0.57\n",
      "Epoch:  20 Training loss: 0.35 Validation loss: 0.54\n",
      "Epoch:  30 Training loss: 0.30 Validation loss: 0.50\n",
      "Epoch:  40 Training loss: 0.25 Validation loss: 0.45\n",
      "Epoch:  50 Training loss: 0.23 Validation loss: 0.46\n",
      "Epoch:  60 Training loss: 0.22 Validation loss: 0.49\n",
      "Epoch:  70 Training loss: 0.21 Validation loss: 0.43\n",
      "Epoch:  80 Training loss: 0.19 Validation loss: 0.44\n",
      "Epoch:  90 Training loss: 0.19 Validation loss: 0.47\n",
      "Epoch: 100 Training loss: 0.18 Validation loss: 0.49\n",
      "Epoch: 110 Training loss: 0.17 Validation loss: 0.50\n",
      "Epoch: 120 Training loss: 0.18 Validation loss: 0.49\n",
      "Epoch: 130 Training loss: 0.16 Validation loss: 0.43\n",
      "Epoch: 140 Training loss: 0.15 Validation loss: 0.49\n",
      "Epoch: 150 Training loss: 0.16 Validation loss: 0.44\n",
      "Epoch: 160 Training loss: 0.15 Validation loss: 0.46\n",
      "Epoch: 170 Training loss: 0.15 Validation loss: 0.46\n",
      "Epoch: 180 Training loss: 0.14 Validation loss: 0.46\n",
      "Epoch: 190 Training loss: 0.15 Validation loss: 0.46\n"
     ]
    }
   ],
   "source": [
    "model.train() #Ensure the network is in \"train\" mode with dropouts active\n",
    "epochs = 200\n",
    "for e in range(epochs):\n",
    "    running_loss = 0\n",
    "    for fps, labels in train_loader:\n",
    "        # Training pass\n",
    "        optimizer.zero_grad() # Initialize the gradients, which will be recorded during the forward pa\n",
    "         \n",
    "        output = model(fps) #Forward pass of the mini-batch\n",
    "        loss = criterion(output, labels) #Computing the loss\n",
    "        loss.backward() # calculate the backward pass\n",
    "        optimizer.step() # Optimize the weights\n",
    "         \n",
    "        running_loss += loss.item()\n",
    "    else:\n",
    "        if e%10 == 0:\n",
    "            validation_loss = torch.mean(( y_validation - model(X_validation) )**2).item()\n",
    "            print(\"Epoch: %3i Training loss: %0.2F Validation loss: %0.2F\"%(e,(running_loss/len(train_loader)), validation_loss))"
   ]
  },
  {
   "cell_type": "code",
   "execution_count": 56,
   "id": "exposed-richards",
   "metadata": {},
   "outputs": [],
   "source": [
    "model.eval() #Swith to evaluation mode, where dropout is switched off\n",
    "y_pred_train = model(X_train)\n",
    "y_pred_validation = model(X_validation)\n",
    "y_pred_test = model(X_test)"
   ]
  },
  {
   "cell_type": "code",
   "execution_count": 57,
   "id": "thirty-danish",
   "metadata": {},
   "outputs": [
    {
     "data": {
      "text/plain": [
       "0.23624488711357117"
      ]
     },
     "execution_count": 57,
     "metadata": {},
     "output_type": "execute_result"
    }
   ],
   "source": [
    "torch.mean(( y_train - y_pred_train )**2).item()"
   ]
  },
  {
   "cell_type": "code",
   "execution_count": 58,
   "id": "corresponding-clause",
   "metadata": {},
   "outputs": [
    {
     "data": {
      "text/plain": [
       "0.4492095708847046"
      ]
     },
     "execution_count": 58,
     "metadata": {},
     "output_type": "execute_result"
    }
   ],
   "source": [
    "torch.mean(( y_validation - y_pred_validation )**2).item()"
   ]
  },
  {
   "cell_type": "code",
   "execution_count": 59,
   "id": "pressing-organic",
   "metadata": {},
   "outputs": [
    {
     "data": {
      "text/plain": [
       "0.40933188796043396"
      ]
     },
     "execution_count": 59,
     "metadata": {},
     "output_type": "execute_result"
    }
   ],
   "source": [
    "torch.mean(( y_test - y_pred_test )**2).item()"
   ]
  },
  {
   "cell_type": "code",
   "execution_count": 60,
   "id": "greatest-rings",
   "metadata": {},
   "outputs": [],
   "source": [
    "def flatten(tensor):\n",
    "    return tensor.cpu().detach().numpy().flatten()"
   ]
  },
  {
   "cell_type": "code",
   "execution_count": 61,
   "id": "binary-james",
   "metadata": {},
   "outputs": [
    {
     "data": {
      "text/plain": [
       "[<matplotlib.lines.Line2D at 0x26ca9ba8e20>]"
      ]
     },
     "execution_count": 61,
     "metadata": {},
     "output_type": "execute_result"
    },
    {
     "data": {
      "image/png": "[encoded data removed]",
      "text/plain": [
       "<Figure size 432x288 with 1 Axes>"
      ]
     },
     "metadata": {
      "needs_background": "light"
     },
     "output_type": "display_data"
    }
   ],
   "source": [
    "plt.scatter(flatten(y_pred_test), flatten(y_test), alpha=0.5, label=\"Test\")\n",
    "plt.scatter(flatten(y_pred_train), flatten(y_train), alpha=0.1, label=\"Train\")\n",
    "plt.legend()\n",
    "plt.plot([-1.5, 1.5], [-1.5,1.5], c=\"b\")"
   ]
  },
  {
   "cell_type": "code",
   "execution_count": 62,
   "id": "smoking-briefing",
   "metadata": {},
   "outputs": [
    {
     "data": {
      "text/plain": [
       "8.583546"
      ]
     },
     "execution_count": 62,
     "metadata": {},
     "output_type": "execute_result"
    }
   ],
   "source": [
    "def predict_smiles(smiles):\n",
    "    fp = mol2fp(Chem.MolFromSmiles(smiles)).reshape(1,-1)\n",
    "    fp_filtered = feature_select.transform(fp)\n",
    "    fp_tensor = torch.tensor(fp_filtered, device=device).float()\n",
    "    prediction = model(fp_tensor)\n",
    "    #return prediction.cpu().detach().numpy()\n",
    "    pXC50 = scaler.inverse_transform(prediction.cpu().detach().numpy())\n",
    "    return pXC50[0][0]\n",
    "\n",
    "predict_smiles('Cc1ccc2c(N3CCNCC3)cc(F)cc2n1')"
   ]
  },
  {
   "cell_type": "code",
   "execution_count": null,
   "id": "offshore-reproduction",
   "metadata": {},
   "outputs": [],
   "source": []
  },
  {
   "cell_type": "code",
   "execution_count": null,
   "id": "sized-interval",
   "metadata": {},
   "outputs": [],
   "source": []
  }
 ],
 "metadata": {
  "kernelspec": {
   "display_name": "Python 3",
   "language": "python",
   "name": "python3"
  },
  "language_info": {
   "codemirror_mode": {
    "name": "ipython",
    "version": 3
   },
   "file_extension": ".py",
   "mimetype": "text/x-python",
   "name": "python",
   "nbconvert_exporter": "python",
   "pygments_lexer": "ipython3",
   "version": "3.9.2"
  }
 },
 "nbformat": 4,
 "nbformat_minor": 5
}
