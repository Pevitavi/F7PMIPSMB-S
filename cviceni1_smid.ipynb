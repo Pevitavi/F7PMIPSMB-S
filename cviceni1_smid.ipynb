{
 "cells": [
  {
   "cell_type": "code",
   "execution_count": 2,
   "id": "automatic-suicide",
   "metadata": {},
   "outputs": [],
   "source": [
    "from rdkit import Chem"
   ]
  },
  {
   "cell_type": "code",
   "execution_count": 3,
   "id": "brown-ridge",
   "metadata": {},
   "outputs": [],
   "source": [
    "m = Chem.MolFromSmiles('Cc1ccccc1')"
   ]
  },
  {
   "cell_type": "code",
   "execution_count": 4,
   "id": "federal-punishment",
   "metadata": {},
   "outputs": [
    {
     "data": {
      "image/png": "[encoded data removed]",
      "text/plain": [
       "<rdkit.Chem.rdchem.Mol at 0x1de21d17d00>"
      ]
     },
     "execution_count": 4,
     "metadata": {},
     "output_type": "execute_result"
    }
   ],
   "source": [
    "m"
   ]
  },
  {
   "cell_type": "code",
   "execution_count": 5,
   "id": "human-medicare",
   "metadata": {},
   "outputs": [
    {
     "data": {
      "text/plain": [
       "<bound method GetAtoms of <rdkit.Chem.rdchem.Mol object at 0x000001DE21D17D00>>"
      ]
     },
     "execution_count": 5,
     "metadata": {},
     "output_type": "execute_result"
    }
   ],
   "source": [
    "m.GetAtoms"
   ]
  },
  {
   "cell_type": "code",
   "execution_count": 6,
   "id": "thermal-hybrid",
   "metadata": {},
   "outputs": [
    {
     "data": {
      "text/plain": [
       "False"
      ]
     },
     "execution_count": 6,
     "metadata": {},
     "output_type": "execute_result"
    }
   ],
   "source": [
    "m is None"
   ]
  },
  {
   "cell_type": "code",
   "execution_count": 7,
   "id": "advance-championship",
   "metadata": {},
   "outputs": [
    {
     "data": {
      "text/plain": [
       "7"
      ]
     },
     "execution_count": 7,
     "metadata": {},
     "output_type": "execute_result"
    }
   ],
   "source": [
    "m.GetNumAtoms()"
   ]
  },
  {
   "cell_type": "code",
   "execution_count": 8,
   "id": "acting-smoke",
   "metadata": {},
   "outputs": [
    {
     "name": "stdout",
     "output_type": "stream",
     "text": [
      "<rdkit.rdBase._vectclass std::basic_string<char,struct std::char_traits<char>,class std::allocator<char> > object at 0x000001DE21D3D350>\n",
      "<rdkit.rdBase._vectclass std::basic_string<char,struct std::char_traits<char>,class std::allocator<char> > object at 0x000001DE21D3D350>\n",
      "<rdkit.rdBase._vectclass std::basic_string<char,struct std::char_traits<char>,class std::allocator<char> > object at 0x000001DE21D3D350>\n"
     ]
    }
   ],
   "source": [
    "m = Chem.MolFromSmiles('C1OC1')\n",
    "for atom in m.GetAtoms():\n",
    "    print(atom.GetPropNames())"
   ]
  },
  {
   "cell_type": "code",
   "execution_count": 9,
   "id": "standard-evolution",
   "metadata": {},
   "outputs": [],
   "source": [
    "cs = Chem.CanonSmiles(\"CCOC(=O)C(CC1=CC(=C(C=C1)O)O)N\")"
   ]
  },
  {
   "cell_type": "code",
   "execution_count": 10,
   "id": "continuous-afternoon",
   "metadata": {},
   "outputs": [
    {
     "data": {
      "text/plain": [
       "'CCOC(=O)C(N)Cc1ccc(O)c(O)c1'"
      ]
     },
     "execution_count": 10,
     "metadata": {},
     "output_type": "execute_result"
    }
   ],
   "source": [
    "cs"
   ]
  },
  {
   "cell_type": "code",
   "execution_count": 11,
   "id": "ideal-divorce",
   "metadata": {},
   "outputs": [],
   "source": [
    "mol = Chem.MolFromSmiles(\"CCOC(=O)C(CC1=CC(=C(C=C1)O)O)N\")"
   ]
  },
  {
   "cell_type": "code",
   "execution_count": 12,
   "id": "mature-potter",
   "metadata": {},
   "outputs": [
    {
     "data": {
      "image/png": "[encoded data removed]",
      "text/plain": [
       "<rdkit.Chem.rdchem.Mol at 0x1de21d42700>"
      ]
     },
     "execution_count": 12,
     "metadata": {},
     "output_type": "execute_result"
    }
   ],
   "source": [
    "mol"
   ]
  },
  {
   "cell_type": "code",
   "execution_count": 24,
   "id": "painful-oxygen",
   "metadata": {},
   "outputs": [],
   "source": [
    "import pandas as pd\n",
    "from rdkit.Chem.Fingerprints import FingerprintMols\n",
    "from rdkit import DataStructs\n",
    "df = pd.read_table(\"compounds.csv\", sep=\";\")"
   ]
  },
  {
   "cell_type": "code",
   "execution_count": 25,
   "id": "local-search",
   "metadata": {},
   "outputs": [
    {
     "data": {
      "text/plain": [
       "0           CCOC(=O)C(CC1=CC(=C(C=C1)O)O)N\n",
       "1         COC(=O)C(CC1=CC(=C(C=C1)O)O)N.Cl\n",
       "2           CCOC(=O)C(CC1=CC(=C(C=C1)O)O)N\n",
       "3    C1=CC(=C(C=C1CC(C(=O)O)N)O)OP(=O)(O)O\n",
       "4            COC(=O)C(CC1=CC(=C(C=C1)O)O)N\n",
       "5        C1=CC(=C(C=C1CC(C(=O)O)N)O)O.[Na]\n",
       "6            COC1=C(C=C(C=C1)CC(C(=O)O)N)O\n",
       "7            COC1=C(C=CC(=C1)CC(C(=O)O)N)O\n",
       "Name: smiles, dtype: object"
      ]
     },
     "execution_count": 25,
     "metadata": {},
     "output_type": "execute_result"
    }
   ],
   "source": [
    "df['smiles']"
   ]
  },
  {
   "cell_type": "code",
   "execution_count": 26,
   "id": "contained-toddler",
   "metadata": {},
   "outputs": [
    {
     "name": "stdout",
     "output_type": "stream",
     "text": [
      "<rdkit.Chem.rdchem.Mol object at 0x000001DE22C7CC40>\n",
      "<rdkit.DataStructs.cDataStructs.ExplicitBitVect object at 0x000001DE22B10B80>\n",
      "0.872791519434629\n",
      "_____________________________________________________________________________\n",
      "<rdkit.Chem.rdchem.Mol object at 0x000001DE22C74F40>\n",
      "<rdkit.DataStructs.cDataStructs.ExplicitBitVect object at 0x000001DE22C74E80>\n",
      "0.9182156133828996\n",
      "_____________________________________________________________________________\n",
      "<rdkit.Chem.rdchem.Mol object at 0x000001DE22C74FA0>\n",
      "<rdkit.DataStructs.cDataStructs.ExplicitBitVect object at 0x000001DE22C74F40>\n",
      "0.872791519434629\n",
      "_____________________________________________________________________________\n",
      "<rdkit.Chem.rdchem.Mol object at 0x000001DE22C74EE0>\n",
      "<rdkit.DataStructs.cDataStructs.ExplicitBitVect object at 0x000001DE22C74FA0>\n",
      "0.7891373801916933\n",
      "_____________________________________________________________________________\n",
      "<rdkit.Chem.rdchem.Mol object at 0x000001DE22C74E80>\n",
      "<rdkit.DataStructs.cDataStructs.ExplicitBitVect object at 0x000001DE22C74EE0>\n",
      "0.9182156133828996\n",
      "_____________________________________________________________________________\n",
      "<rdkit.Chem.rdchem.Mol object at 0x000001DE22B48AC0>\n",
      "<rdkit.DataStructs.cDataStructs.ExplicitBitVect object at 0x000001DE20587F40>\n",
      "1.0\n",
      "_____________________________________________________________________________\n",
      "<rdkit.Chem.rdchem.Mol object at 0x000001DE22C74FA0>\n",
      "<rdkit.DataStructs.cDataStructs.ExplicitBitVect object at 0x000001DE22C74EE0>\n",
      "0.8916967509025271\n",
      "_____________________________________________________________________________\n",
      "<rdkit.Chem.rdchem.Mol object at 0x000001DE22C74E80>\n",
      "<rdkit.DataStructs.cDataStructs.ExplicitBitVect object at 0x000001DE22C74FA0>\n",
      "0.8821428571428571\n",
      "_____________________________________________________________________________\n"
     ]
    }
   ],
   "source": [
    "i = 0\n",
    "df['calc'] = None\n",
    "for smiles in df['smiles']:\n",
    "  new = Chem.CanonSmiles(smiles)\n",
    "  levod = Chem.MolFromSmiles(Chem.CanonSmiles(smiles))\n",
    "  print(levod)\n",
    "  fps = FingerprintMols.FingerprintMol(levod)\n",
    "  print(fps)\n",
    "  rs = FingerprintMols.FingerprintMol(Chem.MolFromSmiles(Chem.CanonSmiles(smiles)))\n",
    "  cs = FingerprintMols.FingerprintMol(Chem.MolFromSmiles(Chem.CanonSmiles('C1=CC(=C(C=C1CC(C(=O)O)N)O)O')))\n",
    "  print(DataStructs.FingerprintSimilarity(rs,cs))\n",
    "  if df['calc'][i] is None:\n",
    "    df['calc'][i] = DataStructs.FingerprintSimilarity(rs,cs)\n",
    "    i = i + 1\n",
    "  print('_____________________________________________________________________________')\n",
    "  "
   ]
  },
  {
   "cell_type": "code",
   "execution_count": 365,
   "id": "laden-architecture",
   "metadata": {},
   "outputs": [
    {
     "data": {
      "text/html": [
       "<div>\n",
       "<style scoped>\n",
       "    .dataframe tbody tr th:only-of-type {\n",
       "        vertical-align: middle;\n",
       "    }\n",
       "\n",
       "    .dataframe tbody tr th {\n",
       "        vertical-align: top;\n",
       "    }\n",
       "\n",
       "    .dataframe thead th {\n",
       "        text-align: right;\n",
       "    }\n",
       "</style>\n",
       "<table border=\"1\" class=\"dataframe\">\n",
       "  <thead>\n",
       "    <tr style=\"text-align: right;\">\n",
       "      <th></th>\n",
       "      <th>name</th>\n",
       "      <th>smiles</th>\n",
       "      <th>pubmed</th>\n",
       "      <th>calc</th>\n",
       "    </tr>\n",
       "  </thead>\n",
       "  <tbody>\n",
       "    <tr>\n",
       "      <th>0</th>\n",
       "      <td>Ethyl 2-amino-3-(3,4-dihydroxyphenyl)propanoate</td>\n",
       "      <td>CCOC(=O)C(CC1=CC(=C(C=C1)O)O)N</td>\n",
       "      <td>https://pubchem.ncbi.nlm.nih.gov/compound/1179...</td>\n",
       "      <td>0.872792</td>\n",
       "    </tr>\n",
       "    <tr>\n",
       "      <th>1</th>\n",
       "      <td>(S)-Methyl 2-amino-3-(3,4-dihydroxyphenyl)prop...</td>\n",
       "      <td>COC(=O)C(CC1=CC(=C(C=C1)O)O)N.Cl</td>\n",
       "      <td>https://pubchem.ncbi.nlm.nih.gov/compound/1013...</td>\n",
       "      <td>0.918216</td>\n",
       "    </tr>\n",
       "    <tr>\n",
       "      <th>2</th>\n",
       "      <td>Etilevodopa</td>\n",
       "      <td>CCOC(=O)C(CC1=CC(=C(C=C1)O)O)N</td>\n",
       "      <td>https://pubchem.ncbi.nlm.nih.gov/compound/170345</td>\n",
       "      <td>0.872792</td>\n",
       "    </tr>\n",
       "    <tr>\n",
       "      <th>3</th>\n",
       "      <td>Foslevodopa</td>\n",
       "      <td>C1=CC(=C(C=C1CC(C(=O)O)N)O)OP(=O)(O)O</td>\n",
       "      <td>https://pubchem.ncbi.nlm.nih.gov/compound/127766</td>\n",
       "      <td>0.789137</td>\n",
       "    </tr>\n",
       "    <tr>\n",
       "      <th>4</th>\n",
       "      <td>Melevodopa</td>\n",
       "      <td>COC(=O)C(CC1=CC(=C(C=C1)O)O)N</td>\n",
       "      <td>https://pubchem.ncbi.nlm.nih.gov/compound/23497</td>\n",
       "      <td>0.918216</td>\n",
       "    </tr>\n",
       "    <tr>\n",
       "      <th>5</th>\n",
       "      <td>L-DOPA (sodium)</td>\n",
       "      <td>C1=CC(=C(C=C1CC(C(=O)O)N)O)O.[Na]</td>\n",
       "      <td>https://pubchem.ncbi.nlm.nih.gov/compound/1386...</td>\n",
       "      <td>1.0</td>\n",
       "    </tr>\n",
       "    <tr>\n",
       "      <th>6</th>\n",
       "      <td>Tyrosine, 3-hydroxy-O-methyl-</td>\n",
       "      <td>COC1=C(C=C(C=C1)CC(C(=O)O)N)O</td>\n",
       "      <td>https://pubchem.ncbi.nlm.nih.gov/compound/1340...</td>\n",
       "      <td>0.891697</td>\n",
       "    </tr>\n",
       "    <tr>\n",
       "      <th>7</th>\n",
       "      <td>3-Methoxytyrosine</td>\n",
       "      <td>COC1=C(C=CC(=C1)CC(C(=O)O)N)O</td>\n",
       "      <td>https://pubchem.ncbi.nlm.nih.gov/compound/1670...</td>\n",
       "      <td>0.882143</td>\n",
       "    </tr>\n",
       "  </tbody>\n",
       "</table>\n",
       "</div>"
      ],
      "text/plain": [
       "                                                name  \\\n",
       "0    Ethyl 2-amino-3-(3,4-dihydroxyphenyl)propanoate   \n",
       "1  (S)-Methyl 2-amino-3-(3,4-dihydroxyphenyl)prop...   \n",
       "2                                        Etilevodopa   \n",
       "3                                        Foslevodopa   \n",
       "4                                         Melevodopa   \n",
       "5                                    L-DOPA (sodium)   \n",
       "6                      Tyrosine, 3-hydroxy-O-methyl-   \n",
       "7                                  3-Methoxytyrosine   \n",
       "\n",
       "                                  smiles  \\\n",
       "0         CCOC(=O)C(CC1=CC(=C(C=C1)O)O)N   \n",
       "1       COC(=O)C(CC1=CC(=C(C=C1)O)O)N.Cl   \n",
       "2         CCOC(=O)C(CC1=CC(=C(C=C1)O)O)N   \n",
       "3  C1=CC(=C(C=C1CC(C(=O)O)N)O)OP(=O)(O)O   \n",
       "4          COC(=O)C(CC1=CC(=C(C=C1)O)O)N   \n",
       "5      C1=CC(=C(C=C1CC(C(=O)O)N)O)O.[Na]   \n",
       "6          COC1=C(C=C(C=C1)CC(C(=O)O)N)O   \n",
       "7          COC1=C(C=CC(=C1)CC(C(=O)O)N)O   \n",
       "\n",
       "                                              pubmed      calc  \n",
       "0  https://pubchem.ncbi.nlm.nih.gov/compound/1179...  0.872792  \n",
       "1  https://pubchem.ncbi.nlm.nih.gov/compound/1013...  0.918216  \n",
       "2   https://pubchem.ncbi.nlm.nih.gov/compound/170345  0.872792  \n",
       "3   https://pubchem.ncbi.nlm.nih.gov/compound/127766  0.789137  \n",
       "4    https://pubchem.ncbi.nlm.nih.gov/compound/23497  0.918216  \n",
       "5  https://pubchem.ncbi.nlm.nih.gov/compound/1386...       1.0  \n",
       "6  https://pubchem.ncbi.nlm.nih.gov/compound/1340...  0.891697  \n",
       "7  https://pubchem.ncbi.nlm.nih.gov/compound/1670...  0.882143  "
      ]
     },
     "execution_count": 365,
     "metadata": {},
     "output_type": "execute_result"
    }
   ],
   "source": [
    "df"
   ]
  },
  {
   "cell_type": "code",
   "execution_count": 376,
   "id": "changing-anniversary",
   "metadata": {},
   "outputs": [],
   "source": [
    "clcpom = df"
   ]
  },
  {
   "cell_type": "code",
   "execution_count": 377,
   "id": "industrial-drain",
   "metadata": {},
   "outputs": [
    {
     "data": {
      "text/html": [
       "<div>\n",
       "<style scoped>\n",
       "    .dataframe tbody tr th:only-of-type {\n",
       "        vertical-align: middle;\n",
       "    }\n",
       "\n",
       "    .dataframe tbody tr th {\n",
       "        vertical-align: top;\n",
       "    }\n",
       "\n",
       "    .dataframe thead th {\n",
       "        text-align: right;\n",
       "    }\n",
       "</style>\n",
       "<table border=\"1\" class=\"dataframe\">\n",
       "  <thead>\n",
       "    <tr style=\"text-align: right;\">\n",
       "      <th></th>\n",
       "      <th>name</th>\n",
       "      <th>smiles</th>\n",
       "      <th>pubmed</th>\n",
       "      <th>calc</th>\n",
       "    </tr>\n",
       "  </thead>\n",
       "  <tbody>\n",
       "    <tr>\n",
       "      <th>0</th>\n",
       "      <td>Ethyl 2-amino-3-(3,4-dihydroxyphenyl)propanoate</td>\n",
       "      <td>CCOC(=O)C(CC1=CC(=C(C=C1)O)O)N</td>\n",
       "      <td>https://pubchem.ncbi.nlm.nih.gov/compound/1179...</td>\n",
       "      <td>0.872792</td>\n",
       "    </tr>\n",
       "    <tr>\n",
       "      <th>1</th>\n",
       "      <td>(S)-Methyl 2-amino-3-(3,4-dihydroxyphenyl)prop...</td>\n",
       "      <td>COC(=O)C(CC1=CC(=C(C=C1)O)O)N.Cl</td>\n",
       "      <td>https://pubchem.ncbi.nlm.nih.gov/compound/1013...</td>\n",
       "      <td>0.918216</td>\n",
       "    </tr>\n",
       "    <tr>\n",
       "      <th>2</th>\n",
       "      <td>Etilevodopa</td>\n",
       "      <td>CCOC(=O)C(CC1=CC(=C(C=C1)O)O)N</td>\n",
       "      <td>https://pubchem.ncbi.nlm.nih.gov/compound/170345</td>\n",
       "      <td>0.872792</td>\n",
       "    </tr>\n",
       "    <tr>\n",
       "      <th>3</th>\n",
       "      <td>Foslevodopa</td>\n",
       "      <td>C1=CC(=C(C=C1CC(C(=O)O)N)O)OP(=O)(O)O</td>\n",
       "      <td>https://pubchem.ncbi.nlm.nih.gov/compound/127766</td>\n",
       "      <td>0.789137</td>\n",
       "    </tr>\n",
       "    <tr>\n",
       "      <th>4</th>\n",
       "      <td>Melevodopa</td>\n",
       "      <td>COC(=O)C(CC1=CC(=C(C=C1)O)O)N</td>\n",
       "      <td>https://pubchem.ncbi.nlm.nih.gov/compound/23497</td>\n",
       "      <td>0.918216</td>\n",
       "    </tr>\n",
       "    <tr>\n",
       "      <th>5</th>\n",
       "      <td>L-DOPA (sodium)</td>\n",
       "      <td>C1=CC(=C(C=C1CC(C(=O)O)N)O)O.[Na]</td>\n",
       "      <td>https://pubchem.ncbi.nlm.nih.gov/compound/1386...</td>\n",
       "      <td>1.0</td>\n",
       "    </tr>\n",
       "    <tr>\n",
       "      <th>6</th>\n",
       "      <td>Tyrosine, 3-hydroxy-O-methyl-</td>\n",
       "      <td>COC1=C(C=C(C=C1)CC(C(=O)O)N)O</td>\n",
       "      <td>https://pubchem.ncbi.nlm.nih.gov/compound/1340...</td>\n",
       "      <td>0.891697</td>\n",
       "    </tr>\n",
       "    <tr>\n",
       "      <th>7</th>\n",
       "      <td>3-Methoxytyrosine</td>\n",
       "      <td>COC1=C(C=CC(=C1)CC(C(=O)O)N)O</td>\n",
       "      <td>https://pubchem.ncbi.nlm.nih.gov/compound/1670...</td>\n",
       "      <td>0.882143</td>\n",
       "    </tr>\n",
       "  </tbody>\n",
       "</table>\n",
       "</div>"
      ],
      "text/plain": [
       "                                                name  \\\n",
       "0    Ethyl 2-amino-3-(3,4-dihydroxyphenyl)propanoate   \n",
       "1  (S)-Methyl 2-amino-3-(3,4-dihydroxyphenyl)prop...   \n",
       "2                                        Etilevodopa   \n",
       "3                                        Foslevodopa   \n",
       "4                                         Melevodopa   \n",
       "5                                    L-DOPA (sodium)   \n",
       "6                      Tyrosine, 3-hydroxy-O-methyl-   \n",
       "7                                  3-Methoxytyrosine   \n",
       "\n",
       "                                  smiles  \\\n",
       "0         CCOC(=O)C(CC1=CC(=C(C=C1)O)O)N   \n",
       "1       COC(=O)C(CC1=CC(=C(C=C1)O)O)N.Cl   \n",
       "2         CCOC(=O)C(CC1=CC(=C(C=C1)O)O)N   \n",
       "3  C1=CC(=C(C=C1CC(C(=O)O)N)O)OP(=O)(O)O   \n",
       "4          COC(=O)C(CC1=CC(=C(C=C1)O)O)N   \n",
       "5      C1=CC(=C(C=C1CC(C(=O)O)N)O)O.[Na]   \n",
       "6          COC1=C(C=C(C=C1)CC(C(=O)O)N)O   \n",
       "7          COC1=C(C=CC(=C1)CC(C(=O)O)N)O   \n",
       "\n",
       "                                              pubmed      calc  \n",
       "0  https://pubchem.ncbi.nlm.nih.gov/compound/1179...  0.872792  \n",
       "1  https://pubchem.ncbi.nlm.nih.gov/compound/1013...  0.918216  \n",
       "2   https://pubchem.ncbi.nlm.nih.gov/compound/170345  0.872792  \n",
       "3   https://pubchem.ncbi.nlm.nih.gov/compound/127766  0.789137  \n",
       "4    https://pubchem.ncbi.nlm.nih.gov/compound/23497  0.918216  \n",
       "5  https://pubchem.ncbi.nlm.nih.gov/compound/1386...       1.0  \n",
       "6  https://pubchem.ncbi.nlm.nih.gov/compound/1340...  0.891697  \n",
       "7  https://pubchem.ncbi.nlm.nih.gov/compound/1670...  0.882143  "
      ]
     },
     "execution_count": 377,
     "metadata": {},
     "output_type": "execute_result"
    }
   ],
   "source": [
    "clcpom"
   ]
  },
  {
   "cell_type": "code",
   "execution_count": 381,
   "id": "satellite-mouse",
   "metadata": {},
   "outputs": [],
   "source": [
    "larg=[]\n",
    "for i in range(0,3):\n",
    "    largest = clcpom['calc'][0]\n",
    "    for num2 in clcpom['calc']:\n",
    "        if num2 > largest:\n",
    "            largest=num2\n",
    "    larg.append(clcpom[clcpom.calc == largest])\n",
    "    clcpom = clcpom[clcpom.calc != largest]\n",
    "\n"
   ]
  },
  {
   "cell_type": "code",
   "execution_count": 382,
   "id": "canadian-retro",
   "metadata": {},
   "outputs": [
    {
     "data": {
      "text/plain": [
       "[              name                             smiles  \\\n",
       " 5  L-DOPA (sodium)  C1=CC(=C(C=C1CC(C(=O)O)N)O)O.[Na]   \n",
       " \n",
       "                                               pubmed calc  \n",
       " 5  https://pubchem.ncbi.nlm.nih.gov/compound/1386...  1.0  ,\n",
       "                                                 name  \\\n",
       " 1  (S)-Methyl 2-amino-3-(3,4-dihydroxyphenyl)prop...   \n",
       " 4                                         Melevodopa   \n",
       " \n",
       "                              smiles  \\\n",
       " 1  COC(=O)C(CC1=CC(=C(C=C1)O)O)N.Cl   \n",
       " 4     COC(=O)C(CC1=CC(=C(C=C1)O)O)N   \n",
       " \n",
       "                                               pubmed      calc  \n",
       " 1  https://pubchem.ncbi.nlm.nih.gov/compound/1013...  0.918216  \n",
       " 4    https://pubchem.ncbi.nlm.nih.gov/compound/23497  0.918216  ,\n",
       "                             name                         smiles  \\\n",
       " 6  Tyrosine, 3-hydroxy-O-methyl-  COC1=C(C=C(C=C1)CC(C(=O)O)N)O   \n",
       " \n",
       "                                               pubmed      calc  \n",
       " 6  https://pubchem.ncbi.nlm.nih.gov/compound/1340...  0.891697  ]"
      ]
     },
     "execution_count": 382,
     "metadata": {},
     "output_type": "execute_result"
    }
   ],
   "source": [
    "larg"
   ]
  },
  {
   "cell_type": "code",
   "execution_count": null,
   "id": "listed-worry",
   "metadata": {},
   "outputs": [],
   "source": []
  }
 ],
 "metadata": {
  "kernelspec": {
   "display_name": "Python 3",
   "language": "python",
   "name": "python3"
  },
  "language_info": {
   "codemirror_mode": {
    "name": "ipython",
    "version": 3
   },
   "file_extension": ".py",
   "mimetype": "text/x-python",
   "name": "python",
   "nbconvert_exporter": "python",
   "pygments_lexer": "ipython3",
   "version": "3.9.2"
  }
 },
 "nbformat": 4,
 "nbformat_minor": 5
}
